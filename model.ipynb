{
  "nbformat": 4,
  "nbformat_minor": 0,
  "metadata": {
    "colab": {
      "provenance": [],
      "gpuType": "T4"
    },
    "kernelspec": {
      "name": "python3",
      "display_name": "Python 3"
    },
    "language_info": {
      "name": "python"
    },
    "accelerator": "GPU"
  },
  "cells": [
    {
      "cell_type": "code",
      "execution_count": null,
      "metadata": {
        "id": "KCJPKaddoWbc"
      },
      "outputs": [],
      "source": [
        "pip install ultralytics gdown"
      ]
    },
    {
      "cell_type": "code",
      "source": [
        "import gdown\n",
        "\n",
        "url = 'https://drive.google.com/uc?id=1ISHyC5_nkZOUql4WMkJl9bw9C0So82R-'\n",
        "output = 'dataset.zip'\n",
        "gdown.download(url, output, quiet=False)"
      ],
      "metadata": {
        "id": "1GeNM1MxzAA1"
      },
      "execution_count": null,
      "outputs": []
    },
    {
      "cell_type": "code",
      "source": [
        "!unzip \"/content/dataset.zip\" -d /content/dataset"
      ],
      "metadata": {
        "id": "_qfzdM_6qXII"
      },
      "execution_count": null,
      "outputs": []
    },
    {
      "cell_type": "code",
      "source": [
        "from ultralytics import YOLO\n",
        "model = YOLO(\"yolov8n.pt\", )\n",
        "model.to('cuda')\n",
        "model.train(data=\"/content/dataset/data.yaml\", epochs=5)\n",
        "\n",
        "model.export(format=\"onnx\")"
      ],
      "metadata": {
        "id": "9y00fIznpBZN"
      },
      "execution_count": null,
      "outputs": []
    },
    {
      "cell_type": "code",
      "source": [],
      "metadata": {
        "id": "sADKjh-JpDtj"
      },
      "execution_count": null,
      "outputs": []
    }
  ]
}